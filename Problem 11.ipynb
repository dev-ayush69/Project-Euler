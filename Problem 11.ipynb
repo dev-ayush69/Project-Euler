{
 "cells": [
  {
   "cell_type": "markdown",
   "metadata": {},
   "source": [
    "### Problem 11 - Largest Product in a Grid\n",
    "In the 20 x 20 [grid](grid.txt), four numbers along a particular diagonal are 26, 63, 78, 14. The product of these numbers is 26 x 63 x 78 x 14 = 1788696.\n",
    "\n",
    "What is the greatest product of four adjacent numbers in the same direction (up, down, left, right, or diagonally) in the 20 x 20 grid?"
   ]
  },
  {
   "cell_type": "markdown",
   "metadata": {},
   "source": [
    "### Solution\n",
    "We simply iterate though four adjacent numbers in the four directions (horizontal, vertical, left diagonal and right diagonal) and store the maximum product encountered."
   ]
  },
  {
   "cell_type": "code",
   "execution_count": 9,
   "metadata": {},
   "outputs": [
    {
     "name": "stdout",
     "output_type": "stream",
     "text": [
      "70600674\n"
     ]
    }
   ],
   "source": [
    "# Copyright 2023 - Ayush Mishra (dev-ayush69) - MacBook Air M1\n",
    "\n",
    "def main():\n",
    "    f = open(\"grid.txt\", \"r\")\n",
    "    grid = f.read()\n",
    "\n",
    "    grid = [row.strip() for row in grid.split(\"\\n\")]\n",
    "    grid = [[int(cell) for cell in row.split(\" \")] for row in grid if row != \"\"]\n",
    "\n",
    "    max_product = 0\n",
    "\n",
    "    for i in range(20):\n",
    "        for j in range(17):\n",
    "            hor_product = grid[i][j] * grid[i][j + 1] * grid[i][j + 2] * grid[i][j + 3]\n",
    "            ver_product = grid[j][i] * grid[j + 1][i] * grid[j + 2][i] * grid[j + 3][i]\n",
    "\n",
    "            max_product = max(max_product, hor_product)\n",
    "            max_product = max(max_product, ver_product)\n",
    "\n",
    "    for i in range(17):\n",
    "        for j in range(17):\n",
    "            rdiag_product = grid[i][j] * grid[i + 1][j + 1] * grid[i + 2][j + 2] * grid[i + 3][j + 3]\n",
    "            ldiag_product = grid[i][j + 3] * grid[i + 1][j + 2] * grid[i + 2][j + 1] * grid[i + 3][j]\n",
    "\n",
    "            max_product = max(max_product, rdiag_product)\n",
    "            max_product = max(max_product, ldiag_product)\n",
    "\n",
    "    return max_product\n",
    "\n",
    "print(main())"
   ]
  }
 ],
 "metadata": {
  "kernelspec": {
   "display_name": "Python 3",
   "language": "python",
   "name": "python3"
  },
  "language_info": {
   "codemirror_mode": {
    "name": "ipython",
    "version": 3
   },
   "file_extension": ".py",
   "mimetype": "text/x-python",
   "name": "python",
   "nbconvert_exporter": "python",
   "pygments_lexer": "ipython3",
   "version": "3.11.4"
  }
 },
 "nbformat": 4,
 "nbformat_minor": 2
}
