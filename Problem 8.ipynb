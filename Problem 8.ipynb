{
 "cells": [
  {
   "cell_type": "markdown",
   "metadata": {},
   "source": [
    "### Problem 8 - Largest Product in a Series\n",
    "The four adjacent digits in the 1000-digit number [number.txt](number.txt) that have the greatest product are 9 x 9 x 8 x 9 = 5832.\n",
    "\n",
    "Find the thirteen adjacent digits in the 1000-digit number that have the greatest product. What is the value of this product?"
   ]
  },
  {
   "cell_type": "markdown",
   "metadata": {},
   "source": [
    "### Solution\n",
    "We’ll simply iterate over all 13-long sub-strings in a sliding window fashion. For each sub-string, compute the product of the integers. The maximum of these individuals products is the answer."
   ]
  },
  {
   "cell_type": "code",
   "execution_count": 15,
   "metadata": {},
   "outputs": [
    {
     "name": "stdout",
     "output_type": "stream",
     "text": [
      "23514624000\n"
     ]
    }
   ],
   "source": [
    "# Copyright 2023 - Ayush Mishra (dev-ayush69) - MacBook Air M1\n",
    "\n",
    "def main():\n",
    "    f = open(\"number.txt\", \"r\")\n",
    "    numbers = f.read().replace(\"\\n\", \"\")\n",
    "    integers = [int(ch) for ch in numbers]\n",
    "\n",
    "    n = len(integers)\n",
    "    m = 13\n",
    "    max_prod = 0\n",
    "\n",
    "    for i in range(n - m + 1):\n",
    "        product = 1\n",
    "        for j in range(i, i + m):\n",
    "            product *= integers[j]\n",
    "\n",
    "        if product > max_prod:\n",
    "            max_prod = product\n",
    "\n",
    "    return max_prod\n",
    "\n",
    "print(main())"
   ]
  }
 ],
 "metadata": {
  "kernelspec": {
   "display_name": "Python 3",
   "language": "python",
   "name": "python3"
  },
  "language_info": {
   "codemirror_mode": {
    "name": "ipython",
    "version": 3
   },
   "file_extension": ".py",
   "mimetype": "text/x-python",
   "name": "python",
   "nbconvert_exporter": "python",
   "pygments_lexer": "ipython3",
   "version": "3.11.4"
  },
  "orig_nbformat": 4
 },
 "nbformat": 4,
 "nbformat_minor": 2
}
