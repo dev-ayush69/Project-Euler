{
 "cells": [
  {
   "cell_type": "markdown",
   "metadata": {},
   "source": [
    "### Problem 28 - Number Spiral Diagonals\n",
    "Starting with the number 1 and moving to the right in a clockwise direction a 5 by 5 spiral is formed as follows:\n",
    "```\n",
    "21 22 23 24 25\n",
    "20  7  8  9 10\n",
    "19  6  1  2 11\n",
    "18  5  4  3 12\n",
    "17 16 15 14 13\n",
    "```\n",
    "It can be verified that the sum of the numbers on the diagonals is 1 + 3 + 5 + 7 + 9 + 13 + 17 + 21 + 25 = 101.\\\n",
    "What is the sum of the numbers on the diagonals in a 1001 by 1001 spiral formed in the same way?"
   ]
  },
  {
   "cell_type": "markdown",
   "metadata": {},
   "source": [
    "### Solution\n",
    "We have 4 diagonals, each starting at the middle of the matrix and for each diagonal, we can find a sequence:\\\n",
    "a<sub>n</sub> = (9, 25, 49, 81, ...) = (2n+1)<sup>2</sup>\\\n",
    "b<sub>n</sub> = (7, 21, 43, 73, ...) = (2n+1)<sup>2</sup> - 2n\\\n",
    "c<sub>n</sub> = (5, 17, 37, 65, ...) = (2n+1)<sup>2</sup> - 4n\\\n",
    "d<sub>n</sub> = (3, 13, 31, 57, ...) = (2n+1)<sup>2</sup> - 6n\n",
    "\n",
    "We can now sum over these diagonal sequences plus 1 for the middle element to get a closed form solution:\\\n",
    "S<sub>n</sub> = 1 + $\\Sigma$(a<sub>i</sub> + b<sub>i</sub> + c<sub>i</sub> + d<sub>i</sub>)\\\n",
    "= 1 + $\\Sigma$(16i<sup>2</sup> + 4i + 4)\\\n",
    "= 1 + 16 $\\Sigma$ i<sup>2</sup> + 4 $\\Sigma$ i + $\\Sigma$ 4\\\n",
    "= 1 + $\\frac{8}{3}$ n(n + 1)(2n + 1) + 2n(n + 1) + 4n\\\n",
    "= 1 + $\\frac{2}{3}$ n(8n<sup>2</sup> + 15n + 13)\n",
    "\n",
    "Since we split every diagonal into two parts, forming 4 quadrants, we can't go the full 1001 elements in either direction. We must remove the middle element (and require an odd number) and divide by two since we need only half of the diagonal. So, n = (n-1)/2"
   ]
  },
  {
   "cell_type": "code",
   "execution_count": 5,
   "metadata": {},
   "outputs": [
    {
     "name": "stdout",
     "output_type": "stream",
     "text": [
      "669171001\n"
     ]
    }
   ],
   "source": [
    "# Copyright 2023 - Ayush Mishra (dev-ayush69) - MacBook Air M1\n",
    "\n",
    "def sequence_sum(n):\n",
    "    return 1 + (2 * n * (8*n*n + 15*n + 13) / 3)\n",
    "\n",
    "def main():\n",
    "    n = 1001\n",
    "    n = (n - 1)/2\n",
    "    return int(sequence_sum(n))\n",
    "\n",
    "print(main())"
   ]
  }
 ],
 "metadata": {
  "kernelspec": {
   "display_name": "Python 3",
   "language": "python",
   "name": "python3"
  },
  "language_info": {
   "codemirror_mode": {
    "name": "ipython",
    "version": 3
   },
   "file_extension": ".py",
   "mimetype": "text/x-python",
   "name": "python",
   "nbconvert_exporter": "python",
   "pygments_lexer": "ipython3",
   "version": "3.11.4"
  },
  "orig_nbformat": 4
 },
 "nbformat": 4,
 "nbformat_minor": 2
}
