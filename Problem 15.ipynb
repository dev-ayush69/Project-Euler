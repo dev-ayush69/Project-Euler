{
 "cells": [
  {
   "cell_type": "markdown",
   "metadata": {},
   "source": [
    "### Problem 15 - Lattice Paths\n",
    "Starting in the top left corner of a 2 x 2 grid, and only being able to move to the right and down, there are exactly 6 routes to the bottom right corner.\\\n",
    "How many such routes are there through a 20 x 20 grid?"
   ]
  },
  {
   "cell_type": "markdown",
   "metadata": {},
   "source": [
    "### Solution\n",
    "Upon dry run for first few elements, we get the sequence: 1, 2, 6, 20, 70, ...\\\n",
    "What we really generated with the sequence is **Pascal's triangle** and we're interested in all the middle elements.\n",
    "\n",
    "Every element of the triangle can be calculated with the binomial coefficient and every desired element for our problem can be calculated with $\\binom{2n}{n}$."
   ]
  },
  {
   "cell_type": "code",
   "execution_count": 4,
   "metadata": {},
   "outputs": [
    {
     "name": "stdout",
     "output_type": "stream",
     "text": [
      "137846528820\n"
     ]
    }
   ],
   "source": [
    "# Copyright 2023 - Ayush Mishra (dev-ayush69) - MacBook Air M1\n",
    "\n",
    "import math\n",
    "\n",
    "def main():\n",
    "    n = 20\n",
    "\n",
    "    num = math.factorial(2 * n)\n",
    "    den = math.factorial(n) ** 2\n",
    "\n",
    "    return num // den\n",
    "\n",
    "print(main())"
   ]
  }
 ],
 "metadata": {
  "kernelspec": {
   "display_name": "Python 3",
   "language": "python",
   "name": "python3"
  },
  "language_info": {
   "codemirror_mode": {
    "name": "ipython",
    "version": 3
   },
   "file_extension": ".py",
   "mimetype": "text/x-python",
   "name": "python",
   "nbconvert_exporter": "python",
   "pygments_lexer": "ipython3",
   "version": "3.11.4"
  },
  "orig_nbformat": 4
 },
 "nbformat": 4,
 "nbformat_minor": 2
}
