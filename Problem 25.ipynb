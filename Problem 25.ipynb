{
 "cells": [
  {
   "cell_type": "markdown",
   "metadata": {},
   "source": [
    "### Problem 25 - 1000-digit Fibonacci Number\n",
    "The Fibonacci sequence is defined by the recurrence relation:\\\n",
    "***F<sub>n</sub> = F<sub>n-1</sub> + F<sub>n-2</sub>***, where *F<sub>1</sub> = 1* and *F<sub>2</sub> = 1*\n",
    "\n",
    "Hence, the first 12 terms will be: 1, 1, 2, 3, 5, 8, 13, 21, 34, 55, 89, 144.\\\n",
    "The 12th term, F<sub>12</sub>, is the first term to contain three digits.\n",
    "\n",
    "What is the index of the first term in the Fibonacci sequence to contain 1000 digits?"
   ]
  },
  {
   "cell_type": "markdown",
   "metadata": {},
   "source": [
    "### Solution\n",
    "The equation used to find the **n<sup>th</sup>** Fibonacci Number:\n",
    "\n",
    "F<sub>n</sub> = $\\frac{(\\Phi)^n}{\\sqrt{5}}$\n",
    "where, $\\Phi$ is the Golden Ratio = 1.6180339887...\n",
    "\n",
    "The first term of the 1000 digit number that fulfills this inequality:\n",
    "$\\frac{(\\Phi)^n}{\\sqrt{5}}$ > 10<sup>999</sup>\n",
    "\n",
    "We solve this inequality by taking log on both sides and expanding."
   ]
  },
  {
   "cell_type": "code",
   "execution_count": 1,
   "metadata": {},
   "outputs": [
    {
     "name": "stdout",
     "output_type": "stream",
     "text": [
      "4782\n"
     ]
    }
   ],
   "source": [
    "# Copyright 2023 - Ayush Mishra (dev-ayush69) - MacBook Air M1\n",
    "import math\n",
    "\n",
    "def main():\n",
    "    limit = 999\n",
    "    golden_ratio = 1.6180\n",
    "\n",
    "    n = round(((limit * math.log(10)) + (math.log(5)/2))/(math.log(golden_ratio)))\n",
    "    return n\n",
    "\n",
    "print(main())"
   ]
  }
 ],
 "metadata": {
  "kernelspec": {
   "display_name": "Python 3",
   "language": "python",
   "name": "python3"
  },
  "language_info": {
   "codemirror_mode": {
    "name": "ipython",
    "version": 3
   },
   "file_extension": ".py",
   "mimetype": "text/x-python",
   "name": "python",
   "nbconvert_exporter": "python",
   "pygments_lexer": "ipython3",
   "version": "3.11.4"
  }
 },
 "nbformat": 4,
 "nbformat_minor": 2
}
