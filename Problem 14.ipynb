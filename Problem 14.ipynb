{
 "cells": [
  {
   "cell_type": "markdown",
   "metadata": {},
   "source": [
    "### Problem 14 - Longest Collatz Sequence\n",
    "The following iterative sequence is defined for the set of positive integers:\\\n",
    "n &rarr; n/2 (n is even)\\\n",
    "n &rarr; 3n + 1 (n is odd)\n",
    "\n",
    "Using the rule above and starting with 13, we generate the following sequence:\\\n",
    "13 &rarr; 40 &rarr; 20 &rarr; 10 &rarr; 5 &rarr; 16 &rarr; 8 &rarr; 4 &rarr; 2 &rarr; 1\\\n",
    "It can be seen that this sequence (starting at 13 and finishing at 1) contains 10 terms. Although it has not been proved yet (Collatz Problem), it is thought that all starting numbers finish at 1.\n",
    "\n",
    "Which starting number, under one million, produces the longest chain?\n",
    "\n",
    "**NOTE**: Once the chain starts the terms are allowed to go above one million."
   ]
  },
  {
   "cell_type": "markdown",
   "metadata": {},
   "source": [
    "### Naive Approach\n",
    "One can straightforwardly implement this using a recursive/iterative approach."
   ]
  },
  {
   "cell_type": "code",
   "execution_count": 22,
   "metadata": {},
   "outputs": [
    {
     "name": "stdout",
     "output_type": "stream",
     "text": [
      "837799\n"
     ]
    }
   ],
   "source": [
    "# Copyright 2023 - Ayush Mishra (dev-ayush69) - MacBook Air M1\n",
    "\n",
    "def collatz_length(start):\n",
    "    if start == 1:\n",
    "        return 0\n",
    "    elif (start % 2 == 0):\n",
    "        return 1 + collatz_length(start // 2)\n",
    "    else:\n",
    "        return 1 + collatz_length(3 * start + 1)\n",
    "\n",
    "def main():\n",
    "    n = 1000000\n",
    "    result = max_steps = 0\n",
    "\n",
    "    for start in range (2, n):\n",
    "        steps = collatz_length(start)\n",
    "        if (steps > max_steps):\n",
    "            max_steps = steps\n",
    "            result = start\n",
    "\n",
    "    return result\n",
    "\n",
    "print(main())"
   ]
  },
  {
   "cell_type": "markdown",
   "metadata": {},
   "source": [
    "### Optimised Approach\n",
    "Since we revisit a lot of the entries in the sequence, it makes sense to cache them."
   ]
  },
  {
   "cell_type": "code",
   "execution_count": 23,
   "metadata": {},
   "outputs": [
    {
     "name": "stdout",
     "output_type": "stream",
     "text": [
      "837799\n"
     ]
    }
   ],
   "source": [
    "# Copyright 2023 - Ayush Mishra (dev-ayush69) - MacBook Air M1\n",
    "\n",
    "class RecursiveCollatzCache:\n",
    "    def __init__(self):\n",
    "        self._cache = {}\n",
    "\n",
    "    def collatz_length(self, start):\n",
    "        if start in self._cache:\n",
    "            return self._cache[start]\n",
    "        \n",
    "        if start == 1:\n",
    "            result = 0\n",
    "        elif (start % 2 == 0):\n",
    "            result = 1 + self.collatz_length(start // 2)\n",
    "        else:\n",
    "            result = 1 + self.collatz_length(3 * start + 1)\n",
    "        \n",
    "        self._cache[start] = result\n",
    "        return result\n",
    "\n",
    "def main():\n",
    "    cache = RecursiveCollatzCache()\n",
    "    n = 1000000\n",
    "    result = max_steps = 0\n",
    "\n",
    "    for start in range (2, n):\n",
    "        steps = cache.collatz_length(start)\n",
    "        if (steps > max_steps):\n",
    "            max_steps = steps\n",
    "            result = start\n",
    "\n",
    "    return result\n",
    "\n",
    "print(main())"
   ]
  }
 ],
 "metadata": {
  "kernelspec": {
   "display_name": "Python 3",
   "language": "python",
   "name": "python3"
  },
  "language_info": {
   "codemirror_mode": {
    "name": "ipython",
    "version": 3
   },
   "file_extension": ".py",
   "mimetype": "text/x-python",
   "name": "python",
   "nbconvert_exporter": "python",
   "pygments_lexer": "ipython3",
   "version": "3.11.4"
  }
 },
 "nbformat": 4,
 "nbformat_minor": 2
}
