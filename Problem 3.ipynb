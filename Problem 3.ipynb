{
 "cells": [
  {
   "cell_type": "markdown",
   "metadata": {},
   "source": [
    "### Problem 3 - Largest Prime Factor\n",
    "The prime factors of 13195 are 5, 7, 13 and 29. \\\n",
    "What is the largest prime factor of the number 600851475143 ?"
   ]
  },
  {
   "cell_type": "markdown",
   "metadata": {},
   "source": [
    "### Solution\n",
    "The approach is simple, just factorize the given number by dividing it with the divisor of a number and keep updating the maximum prime factor.\n",
    "Time Complexity : O(sqrt(n))"
   ]
  },
  {
   "cell_type": "code",
   "execution_count": 2,
   "metadata": {},
   "outputs": [
    {
     "name": "stdout",
     "output_type": "stream",
     "text": [
      "6857\n"
     ]
    }
   ],
   "source": [
    "# Copyright 2023 - Ayush Mishra (dev-ayush69) - MacBook Air M1\n",
    "\n",
    "def main():\n",
    "    n = 600851475143\n",
    "    largest_prime = -1\n",
    "    i = 2\n",
    "\n",
    "    while i * i <= n :\n",
    "        while n % i == 0:\n",
    "            largest_prime = i\n",
    "            n //= i\n",
    "\n",
    "        i += 1\n",
    "\n",
    "    if n > 1 :\n",
    "        largest_prime = n\n",
    "\n",
    "    return largest_prime\n",
    "\n",
    "print(main())"
   ]
  }
 ],
 "metadata": {
  "kernelspec": {
   "display_name": "Python 3",
   "language": "python",
   "name": "python3"
  },
  "language_info": {
   "codemirror_mode": {
    "name": "ipython",
    "version": 3
   },
   "file_extension": ".py",
   "mimetype": "text/x-python",
   "name": "python",
   "nbconvert_exporter": "python",
   "pygments_lexer": "ipython3",
   "version": "3.11.4"
  },
  "orig_nbformat": 4
 },
 "nbformat": 4,
 "nbformat_minor": 2
}
