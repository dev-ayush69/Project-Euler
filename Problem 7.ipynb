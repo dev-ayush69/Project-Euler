{
 "cells": [
  {
   "cell_type": "markdown",
   "metadata": {},
   "source": [
    "### Problem 7 - 10001st Prime\n",
    "By listing the first six prime numbers: 2, 3, 5, 7, 11, and 13, we can see that the 6th prime is 13. \\\n",
    "What is the 10001st prime number?"
   ]
  },
  {
   "cell_type": "markdown",
   "metadata": {},
   "source": [
    "### Solution 1 - Capped Search space\n",
    "Every prime bigger than 3 is \"next\" to a multiple of 6. That is, for every prime number starting at 5 you can get a multiple of 6 by adding 1 or subtracting 1.\\\n",
    "We can use this property to skip potential factors we don’t need to check. We’re looking at every multiple of 6 (below our limit) and checking whether the number before or after it divides our target."
   ]
  },
  {
   "cell_type": "code",
   "execution_count": 3,
   "metadata": {},
   "outputs": [
    {
     "name": "stdout",
     "output_type": "stream",
     "text": [
      "104743\n"
     ]
    }
   ],
   "source": [
    "# Copyright 2023 - Ayush Mishra (dev-ayush69) - MacBook Air M1\n",
    "\n",
    "from math import sqrt, floor\n",
    "\n",
    "def is_prime(n):\n",
    "    if n < 2 :\n",
    "        return False\n",
    "    if n == 2 or n == 3:\n",
    "        return True\n",
    "    if n % 2 == 0 or n % 3 == 0 :\n",
    "        return False\n",
    "    \n",
    "    for x in range (6, floor(sqrt(n)) + 2, 6):\n",
    "        if n % (x - 1) == 0 or n % (x + 1) == 0 :\n",
    "            return False\n",
    "        \n",
    "    return True\n",
    "\n",
    "def main():\n",
    "    n, cnt = 1, 0\n",
    "    while cnt < 10001:\n",
    "        n += 1\n",
    "        if is_prime(n):\n",
    "            cnt += 1\n",
    "\n",
    "    return n\n",
    "\n",
    "print(main())"
   ]
  },
  {
   "cell_type": "markdown",
   "metadata": {},
   "source": [
    "### Solution 2 - Sieve of Eratosthenes with upper_bound\n",
    "The upper_bound for the n<sup>th</sup> prime is given by : n(log n + log(log(n)))\\\n",
    "It means we can just apply Sieve of Eratosthenes and generate primes upto the upper_bound, and get the n<sup>th</sup> prime. "
   ]
  },
  {
   "cell_type": "code",
   "execution_count": 10,
   "metadata": {},
   "outputs": [
    {
     "name": "stdout",
     "output_type": "stream",
     "text": [
      "104743\n"
     ]
    }
   ],
   "source": [
    "# Copyright 2023 - Ayush Mishra (dev-ayush69) - MacBook Air M1\n",
    "\n",
    "from math import log, ceil\n",
    "\n",
    "def find_primes(limit):\n",
    "    primes = [True] * (limit + 1)\n",
    "    primes[0] = primes[1] = False\n",
    "\n",
    "    for (i, is_prime) in enumerate(primes):\n",
    "        if is_prime:\n",
    "            yield i\n",
    "            for n in range(i * i, limit + 1, i):\n",
    "                primes[n] = False\n",
    "\n",
    "def upper_bound_of_nth_prime(n):\n",
    "    if n < 6:\n",
    "        return 100\n",
    "    return ceil(n * (log(n) + log(log(n))))\n",
    "\n",
    "def main():\n",
    "    n = 10001\n",
    "    limit = upper_bound_of_nth_prime(n)\n",
    "    primes = list(find_primes(limit))\n",
    "    return primes[n - 1]\n",
    "\n",
    "print(main())"
   ]
  }
 ],
 "metadata": {
  "kernelspec": {
   "display_name": "Python 3",
   "language": "python",
   "name": "python3"
  },
  "language_info": {
   "codemirror_mode": {
    "name": "ipython",
    "version": 3
   },
   "file_extension": ".py",
   "mimetype": "text/x-python",
   "name": "python",
   "nbconvert_exporter": "python",
   "pygments_lexer": "ipython3",
   "version": "3.11.4"
  },
  "orig_nbformat": 4
 },
 "nbformat": 4,
 "nbformat_minor": 2
}
