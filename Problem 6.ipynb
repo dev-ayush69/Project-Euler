{
 "cells": [
  {
   "cell_type": "markdown",
   "metadata": {},
   "source": [
    "### Problem 6 - Sum Square Difference\n",
    "The sum of squares of the first ten natural numbers is: 1<sup>2</sup> + 2<sup>2</sup> + 3<sup>2</sup> + ... + 10<sup>2</sup> = 385 \\\n",
    "The square of the sum of the first ten natural numbers is: (1 + 2 + 3 + ... + 10)<sup>2</sup> = 3025 \\\n",
    "Hence the difference between the sum of the squares of the first ten natural numbers and the square of the sum = 3025 - 385 = 2640 \\\n",
    "\\\n",
    "Find the difference between the sum of the squares of the first one hundred natural numbers and the square of the sum."
   ]
  },
  {
   "cell_type": "markdown",
   "metadata": {},
   "source": [
    "### Solution\n",
    "\n",
    "The formula for finding the sum of squares of the first n natural numbers is : S = n * (n + 1) * (2n + 1) / 6 \\\n",
    "The formula for finding square of the sum of the first n natural numbers is : S * S, where S = n * (n + 1) / 2\n",
    "\n",
    "Their difference gives us the required result. \n",
    "Time Complexity : O(1)"
   ]
  },
  {
   "cell_type": "code",
   "execution_count": 1,
   "metadata": {},
   "outputs": [
    {
     "name": "stdout",
     "output_type": "stream",
     "text": [
      "25164150\n"
     ]
    }
   ],
   "source": [
    "# Copyright 2023 - Ayush Mishra (dev-ayush69) - MacBook Air M1\n",
    "\n",
    "def main():\n",
    "    n = 100\n",
    "\n",
    "    s1 = n * (n+1) * (2*n + 1) // 6\n",
    "    s2 = n * (n+1) // 2\n",
    "\n",
    "    return (s2*s2 - s1)\n",
    "\n",
    "print(main())"
   ]
  }
 ],
 "metadata": {
  "kernelspec": {
   "display_name": "Python 3",
   "language": "python",
   "name": "python3"
  },
  "language_info": {
   "codemirror_mode": {
    "name": "ipython",
    "version": 3
   },
   "file_extension": ".py",
   "mimetype": "text/x-python",
   "name": "python",
   "nbconvert_exporter": "python",
   "pygments_lexer": "ipython3",
   "version": "3.11.4"
  },
  "orig_nbformat": 4
 },
 "nbformat": 4,
 "nbformat_minor": 2
}
