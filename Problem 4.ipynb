{
 "cells": [
  {
   "cell_type": "markdown",
   "metadata": {},
   "source": [
    "### Problem 4 - Largest Palindrome Product\n",
    "A palindromic number reads the same both ways. The largest palindrome made from the product of two 2-digit numbers is: 9009 = 91 x 99. \\\n",
    "Find the largest palindrome made from the product of two 3-digit numbers."
   ]
  },
  {
   "cell_type": "markdown",
   "metadata": {},
   "source": [
    "### Solution\n",
    "Loop through all 3-digit numbers and check if their product is palindrome. Take their maximum. \\\n",
    "Time Complexity : O(n<sup>2</sup>)"
   ]
  },
  {
   "cell_type": "code",
   "execution_count": 2,
   "metadata": {},
   "outputs": [
    {
     "name": "stdout",
     "output_type": "stream",
     "text": [
      "906609\n"
     ]
    }
   ],
   "source": [
    "# Copyright 2023 - Ayush Mishra (dev-ayush69) - MacBook Air M1\n",
    "\n",
    "def isPalindrome(n):\n",
    "    return str(n) == str(n)[::-1]\n",
    "\n",
    "def main():\n",
    "    ans = -1\n",
    "    for i in range (100, 1000):\n",
    "        for j in range (100, 1000):\n",
    "            p = i * j\n",
    "            if isPalindrome(p) and p > ans:\n",
    "                ans = p\n",
    "            \n",
    "    return ans\n",
    "\n",
    "print(main())"
   ]
  }
 ],
 "metadata": {
  "kernelspec": {
   "display_name": "Python 3",
   "language": "python",
   "name": "python3"
  },
  "language_info": {
   "codemirror_mode": {
    "name": "ipython",
    "version": 3
   },
   "file_extension": ".py",
   "mimetype": "text/x-python",
   "name": "python",
   "nbconvert_exporter": "python",
   "pygments_lexer": "ipython3",
   "version": "3.11.4"
  },
  "orig_nbformat": 4
 },
 "nbformat": 4,
 "nbformat_minor": 2
}
