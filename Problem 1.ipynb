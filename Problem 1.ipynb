{
 "cells": [
  {
   "cell_type": "markdown",
   "metadata": {},
   "source": [
    "### Problem 1 - Multiples of 3 or 5\n",
    "If we list all the natural numbers below 10 that are multiples of 3 or 5, we get 3, 5, 6 and 9. The sum of these multiples is 23. Find the sum of all the multiples of 3 or 5 below 1000."
   ]
  },
  {
   "cell_type": "markdown",
   "metadata": {},
   "source": [
    "### Naive approach\n",
    "Loop through all the numbers from 1 to 1000 and check if they are a multiple of 3 or 5. \\\n",
    "Time Complexity : O(n)"
   ]
  },
  {
   "cell_type": "code",
   "execution_count": 6,
   "metadata": {},
   "outputs": [
    {
     "name": "stdout",
     "output_type": "stream",
     "text": [
      "233168\n"
     ]
    }
   ],
   "source": [
    "# Copyright 2023 - Ayush Mishra (dev-ayush69) - MacBook Air M1\n",
    "\n",
    "def main():\n",
    "    sum = 0\n",
    "    for n in range (1000):\n",
    "        if n%3 == 0 or n%5 == 0:\n",
    "            sum += n\n",
    "\n",
    "    return (sum)\n",
    "\n",
    "print(main())"
   ]
  },
  {
   "cell_type": "markdown",
   "metadata": {},
   "source": [
    "### Optimised approach\n",
    "Using properties of AP sequence, we can find the sum of series for multiples of 3 and 5 and subtract the multiples of 15, as they are counted twice. \\\n",
    "Time complexity: O(1)"
   ]
  },
  {
   "cell_type": "code",
   "execution_count": 2,
   "metadata": {},
   "outputs": [
    {
     "name": "stdout",
     "output_type": "stream",
     "text": [
      "233168\n"
     ]
    }
   ],
   "source": [
    "# Copyright 2023 - Ayush Mishra (dev-ayush69) - MacBook Air M1\n",
    "\n",
    "def f(n):\n",
    "    return n * (n + 1) // 2\n",
    "\n",
    "def main():\n",
    "    n = 1000\n",
    "    x = (n-1) // 3\n",
    "    y = (n-1) // 5\n",
    "    z = (n-1) // 15\n",
    "    \n",
    "    return 3*f(x) + 5*f(y) - 15*f(z)\n",
    "\n",
    "print(main())"
   ]
  }
 ],
 "metadata": {
  "kernelspec": {
   "display_name": "Python 3 (ipykernel)",
   "language": "python",
   "name": "python3"
  },
  "language_info": {
   "codemirror_mode": {
    "name": "ipython",
    "version": 3
   },
   "file_extension": ".py",
   "mimetype": "text/x-python",
   "name": "python",
   "nbconvert_exporter": "python",
   "pygments_lexer": "ipython3",
   "version": "3.11.4"
  }
 },
 "nbformat": 4,
 "nbformat_minor": 4
}
