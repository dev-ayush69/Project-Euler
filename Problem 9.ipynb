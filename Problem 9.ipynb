{
 "cells": [
  {
   "cell_type": "markdown",
   "metadata": {},
   "source": [
    "### Problem 9 - Special Pythagorean Triplet\n",
    "A Pythagorean triplet is a set of three natural numbers, a < b < c, for which, a<sup>2</sup> + b<sup>2</sup> = c<sup>2</sup>.\n",
    "\n",
    "There exists exactly one Pythagorean triplet for which a + b + c = 1000. \\\n",
    "Find the product <i>abc</i>."
   ]
  },
  {
   "cell_type": "markdown",
   "metadata": {},
   "source": [
    "### Solution\n",
    "Loop through all possible combinations of a and b below 1000 and check if they form a Pythagorean triplet and check if the sum is 1000.\\\n",
    "Time Complexity : O(n<sup>2</sup>)"
   ]
  },
  {
   "cell_type": "code",
   "execution_count": 7,
   "metadata": {},
   "outputs": [
    {
     "name": "stdout",
     "output_type": "stream",
     "text": [
      "31875000\n"
     ]
    }
   ],
   "source": [
    "# Copyright 2023 - Ayush Mishra (dev-ayush69) - MacBook Air M1\n",
    "\n",
    "def main():\n",
    "    for a in range (1, 1000):\n",
    "        for b in range (a+1, 1000):\n",
    "            c = 1000 - a - b\n",
    "            if (c * c) == (a * a) + (b * b):\n",
    "                ans = a * b * c\n",
    "                break;\n",
    "\n",
    "    return ans\n",
    "\n",
    "print(main())"
   ]
  }
 ],
 "metadata": {
  "kernelspec": {
   "display_name": "Python 3",
   "language": "python",
   "name": "python3"
  },
  "language_info": {
   "codemirror_mode": {
    "name": "ipython",
    "version": 3
   },
   "file_extension": ".py",
   "mimetype": "text/x-python",
   "name": "python",
   "nbconvert_exporter": "python",
   "pygments_lexer": "ipython3",
   "version": "3.11.4"
  },
  "orig_nbformat": 4
 },
 "nbformat": 4,
 "nbformat_minor": 2
}
