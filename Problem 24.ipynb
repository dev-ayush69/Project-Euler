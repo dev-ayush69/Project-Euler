{
 "cells": [
  {
   "cell_type": "markdown",
   "metadata": {},
   "source": [
    "### Problem 24 - Lexicographic Permutations\n",
    "A permutation is an ordered arrangement of objects. For example, 3124 is one possible permutation of the digits 1, 2, 3 and 4. If all of the permutations are listed numerically or alphabetically, we call it lexicographic order.\\\n",
    "The lexicographic permutations of 0, 1 and 2 are: 012, 021, 102, 120, 201, 210\n",
    "\n",
    "What is the millionth lexicographic permutation of the digits 0, 1, 2, 3, 4, 5, 6, 7, 8 and 9?"
   ]
  },
  {
   "cell_type": "markdown",
   "metadata": {},
   "source": [
    "### Solution\n",
    "We generate permutations of the given numbers upto a million in lexicographic order and print it."
   ]
  },
  {
   "cell_type": "code",
   "execution_count": 3,
   "metadata": {},
   "outputs": [
    {
     "name": "stdout",
     "output_type": "stream",
     "text": [
      "2783915460\n"
     ]
    }
   ],
   "source": [
    "# Copyright 2023 - Ayush Mishra (dev-ayush69) - MacBook Air M1\n",
    "\n",
    "from itertools import permutations\n",
    "\n",
    "def main():\n",
    "    s = \"0123456789\"\n",
    "    n = 10\n",
    "    cnt, target = 0, 1000000\n",
    "\n",
    "    for p in permutations(s, n):\n",
    "        cnt += 1\n",
    "        if (cnt == target):\n",
    "            ans = p\n",
    "            break\n",
    "\n",
    "    answer = \"\"\n",
    "    for i in ans:\n",
    "        answer += str(i)\n",
    "\n",
    "    return answer\n",
    "\n",
    "print(main())"
   ]
  }
 ],
 "metadata": {
  "kernelspec": {
   "display_name": "Python 3",
   "language": "python",
   "name": "python3"
  },
  "language_info": {
   "codemirror_mode": {
    "name": "ipython",
    "version": 3
   },
   "file_extension": ".py",
   "mimetype": "text/x-python",
   "name": "python",
   "nbconvert_exporter": "python",
   "pygments_lexer": "ipython3",
   "version": "3.11.4"
  }
 },
 "nbformat": 4,
 "nbformat_minor": 2
}
